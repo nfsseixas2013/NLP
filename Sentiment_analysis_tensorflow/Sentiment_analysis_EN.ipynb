{
 "cells": [
  {
   "cell_type": "markdown",
   "metadata": {},
   "source": [
    "## This project aims to build a sentiment analysis from a dataset extracted from twitter. It uses BERT as tokenizer."
   ]
  },
  {
   "cell_type": "code",
   "execution_count": 26,
   "metadata": {},
   "outputs": [],
   "source": [
    "import numpy as np\n",
    "import math\n",
    "import re\n",
    "import pandas as pd\n",
    "from bs4 import BeautifulSoup\n",
    "import random\n",
    "import seaborn as sns\n",
    "import matplotlib.pyplot as plt\n",
    "import tensorflow as tf\n",
    "import tensorflow_hub as hub\n",
    "from tensorflow.keras import layers\n",
    "import bert"
   ]
  },
  {
   "cell_type": "code",
   "execution_count": 2,
   "metadata": {},
   "outputs": [],
   "source": [
    "class DCNN(tf.keras.Model):\n",
    "    def __init__(\n",
    "        self,\n",
    "        vocab_size,\n",
    "        emb_dim=128,\n",
    "        nb_filters = 50,\n",
    "        FFN_units = 512,\n",
    "        nb_classes = 2,\n",
    "        dropout_rate = 0.1,\n",
    "        training = False,\n",
    "        name = \"dcnn\"\n",
    "    ):\n",
    "        super(DCNN,self).__init__(name=name)\n",
    "        self.embedding = layers.Embedding(vocab_size, emb_dim)\n",
    "        self.bigram = layers.Conv1D(\n",
    "            filters = nb_filters,\n",
    "            kernel_size = 2,\n",
    "            padding = 'valid',\n",
    "            activation = 'relu'\n",
    "        )\n",
    "        self.trigram = layers.Conv1D(\n",
    "            filters = nb_filters,\n",
    "            kernel_size = 3,\n",
    "            padding = 'valid',\n",
    "            activation = 'relu'\n",
    "        )\n",
    "        self.fourgram = layers.Conv1D(\n",
    "            filters = nb_filters,\n",
    "            kernel_size = 4,\n",
    "            padding = 'valid',\n",
    "            activation = 'relu'\n",
    "        )\n",
    "            \n",
    "        self.pool = layers.GlobalMaxPool1D()\n",
    "        self.dense_1 = layers.Dense(units = FFN_units, activation = 'relu')\n",
    "        self.dropout = layers.Dropout(rate = dropout_rate)\n",
    "        if nb_classes == 2:\n",
    "            self.last_dense = layers.Dense(units = 1, activation = 'sigmoid')\n",
    "        else:\n",
    "            self.last_dense = layers.Dense(units= nb_classes, activation = 'softmax')\n",
    "            \n",
    "    def call(self, inputs, training):\n",
    "        x = self.embedding(inputs)\n",
    "        x_1 = self.bigram(x)\n",
    "        x_1 = self.pool(x_1)\n",
    "        x_2 = self.trigram(x)\n",
    "        x_2 = self.pool(x_2)\n",
    "        x_3 = self.fourgram(x)\n",
    "        x_3 = self.pool(x_3)\n",
    "        \n",
    "        merged = tf.concat([x_1,x_2,x_3], axis = -1)\n",
    "        merged = self.dense_1(merged)\n",
    "        merged = self.dropout(merged, training)\n",
    "        output = self.last_dense(merged)\n",
    "        \n",
    "        return output"
   ]
  },
  {
   "cell_type": "code",
   "execution_count": 16,
   "metadata": {},
   "outputs": [],
   "source": [
    "class Sentiment:\n",
    "    def __init__(self):\n",
    "        self.cols = ['sentiment', 'id', 'date', 'query', 'user', 'text']\n",
    "        self.data =  pd.read_csv('/home/nilton/Arquivos/Softplan/Tutorials/Curso_BERT_Jonathan/bert_data/Base de dados sentimentos/training.1600000.processed.noemoticon.csv',\n",
    "                       header = None,\n",
    "                       names = self.cols,\n",
    "                       engine='python',\n",
    "                       encoding='latin-1')\n",
    "        self.data.drop(['id', 'date', 'query', 'user'],\n",
    "             axis = 1, inplace = True)\n",
    "        self.data_clean = [self.clean_tweet(tweet) for tweet in self.data.text]\n",
    "        self.data_labels = self.data.sentiment.values\n",
    "        self.data_labels[self.data_labels == 4] = 1\n",
    "        self.FullTokenizer = bert.bert_tokenization.FullTokenizer\n",
    "        self.bert_layer = hub.KerasLayer('https://tfhub.dev/tensorflow/bert_en_uncased_L-24_H-1024_A-16/1',\n",
    "                               trainable = False)\n",
    "        self.vocab_file = self.bert_layer.resolved_object.vocab_file.asset_path.numpy()\n",
    "        self.do_lower_case = self.bert_layer.resolved_object.do_lower_case.numpy()\n",
    "        self.tokenizer = self.FullTokenizer(self.vocab_file, self.do_lower_case)\n",
    "        self.data_inputs = [self.encode_sentence(sentence) for sentence in self.data_clean]\n",
    "        self.data_with_len = self.init_data_with_len()\n",
    "        self.sorted_all = []\n",
    "        self.min_token = 7\n",
    "        self.data_handling()\n",
    "    \n",
    "    \n",
    "    def clean_tweet(self,tweet):\n",
    "        tweet = BeautifulSoup(tweet,'lxml').get_text()\n",
    "        tweet = re.sub(r\"@[A-Za-z0-9]+\",' ',tweet)\n",
    "        tweet = re.sub(r\"https?://[A-Za-z0-9./]+\",' ', tweet)\n",
    "        tweet = re.sub(r\"[^a-zA-Z.!?']\", \" \", tweet)\n",
    "        tweet = re.sub(r\" +\", \" \", tweet)\n",
    "        return tweet\n",
    "    \n",
    "    def encode_sentence(self, sent):\n",
    "        return self.tokenizer.convert_tokens_to_ids(self.tokenizer.tokenize(sent))\n",
    "    \n",
    "    def init_data_with_len(self):\n",
    "        return [\n",
    "            [\n",
    "                sent, self.data_labels[i], len(sent)\n",
    "            ]\n",
    "            for i, sent in enumerate(self.data_inputs)\n",
    "        ]\n",
    "    \n",
    "    def data_handling(self):\n",
    "        random.shuffle(self.data_with_len)\n",
    "        self.data_with_len.sort(key=lambda x: x[2])\n",
    "        self.sorted_all = [\n",
    "            (sent_lab[0], sent_lab[1])\n",
    "            for sent_lab in self.data_with_len if sent_lab[2] > self.min_token\n",
    "        ]\n",
    "        self.BATCH_SIZE = 32\n",
    "        self.NB_BATCHES = len(self.sorted_all) // self.BATCH_SIZE\n",
    "        self.NB_BATCHES_TEST = self.NB_BATCHES // 10\n",
    "        \n",
    "        self.all_dataset = tf.data.Dataset.from_generator(lambda: self.sorted_all, \n",
    "                                            output_types = (tf.int32, tf.int32))\n",
    "        self.all_batched = self.all_dataset.padded_batch(self.BATCH_SIZE, padded_shapes=((None,),()))\n",
    "        self.all_batched.shuffle(self.NB_BATCHES)\n",
    "        self.test_dataset = self.all_batched.take(self.NB_BATCHES_TEST)\n",
    "        self.train_dataset = self.all_batched.skip(self.NB_BATCHES_TEST)\n",
    "        \n",
    "    def trainer(self):\n",
    "        VOCAB_SIZE = len(self.tokenizer.vocab)\n",
    "        EMB_DIM = 200\n",
    "        NB_FILTERS = 100\n",
    "        FFN_UNITS = 256\n",
    "        NB_CLASSES = 2\n",
    "        DROPOUT_RATE = 0.2\n",
    "        NB_EPOCHS = 3\n",
    "        #\n",
    "        self.Dcnn = DCNN(\n",
    "            vocab_size = VOCAB_SIZE,\n",
    "            emb_dim = EMB_DIM,\n",
    "            nb_filters = NB_FILTERS,\n",
    "            FFN_units = FFN_UNITS,\n",
    "            nb_classes = NB_CLASSES,\n",
    "            dropout_rate = DROPOUT_RATE\n",
    "        )\n",
    "        if  NB_CLASSES == 2:\n",
    "            self.Dcnn.compile(loss='binary_crossentropy', optimizer = 'adam', metrics = ['accuracy'])\n",
    "        else:\n",
    "            self.Dcnn.compile(loss='sparse_categorical_crossentropy', optimizer='adam', metrics = ['sparse_categorical_accuracy'])\n",
    "        \n",
    "        checkpoint_path = './'\n",
    "        ckpt = tf.train.Checkpoint(Dcnn= self.Dcnn)\n",
    "        ckpt_manager = tf.train.CheckpointManager(ckpt, checkpoint_path,\n",
    "                                         max_to_keep=1)\n",
    "        if ckpt_manager.latest_checkpoint:\n",
    "            ckpt.restore(ckpt_manager.latest_checkpoint)\n",
    "            print('Lastest checkpoint restored')\n",
    "        \n",
    "        class MyCustomCallBack(tf.keras.callbacks.Callback):\n",
    "            def on_epoch_end(self, epoch, logs = None):\n",
    "                ckpt_manager.save()\n",
    "                print(f\"Checkpoint save at {checkpoint_path}\")\n",
    "        \n",
    "        \n",
    "        history = self.Dcnn.fit(\n",
    "            self.train_dataset,\n",
    "            epochs = NB_EPOCHS,\n",
    "            callbacks = [MyCustomCallBack()]\n",
    "        )\n",
    "        results = self.Dcnn.evaluate(self.test_dataset)\n",
    "        print(results)\n",
    "        plt.plot(history.history['loss'])\n",
    "        plt.title('Loss progress');\n",
    "        plt.plot(history.history['accuracy'])\n",
    "        plt.title('Accuracy progress');\n",
    "        \n",
    "    def  get_prediction(self,sentence):\n",
    "        tokens = self.encode_sentence(sentence)\n",
    "        inputs = tf.expand_dims(tokens, 0)\n",
    "        output = self.Dcnn(inputs, training =False)\n",
    "        sentiment = math.floor(output*2)\n",
    "        if sentiment == 0:\n",
    "            print(\"Negative\")\n",
    "        elif sentiment == 1:\n",
    "            print(\"Positive\")\n",
    "        else:\n",
    "            print(\"Undetermined\")"
   ]
  },
  {
   "cell_type": "code",
   "execution_count": 17,
   "metadata": {},
   "outputs": [],
   "source": [
    "OBJ = Sentiment()"
   ]
  },
  {
   "cell_type": "code",
   "execution_count": 18,
   "metadata": {},
   "outputs": [
    {
     "name": "stdout",
     "output_type": "stream",
     "text": [
      "Lastest checkpoint restored\n",
      "Epoch 1/3\n",
      "  37195/Unknown - 1415s 38ms/step - loss: 0.3454 - accuracy: 0.8495Checkpoint save at ./\n",
      "37196/37196 [==============================] - 1415s 38ms/step - loss: 0.3454 - accuracy: 0.8495\n",
      "Epoch 2/3\n",
      "37195/37196 [============================>.] - ETA: 0s - loss: 0.3045 - accuracy: 0.8696Checkpoint save at ./\n",
      "37196/37196 [==============================] - 1443s 39ms/step - loss: 0.3045 - accuracy: 0.8696\n",
      "Epoch 3/3\n",
      "37195/37196 [============================>.] - ETA: 0s - loss: 0.2661 - accuracy: 0.8873Checkpoint save at ./\n",
      "37196/37196 [==============================] - 1381s 37ms/step - loss: 0.2661 - accuracy: 0.8873\n",
      "4132/4132 [==============================] - 19s 4ms/step - loss: 0.4220 - accuracy: 0.8323\n",
      "[0.4219573736190796, 0.8322846293449402]\n"
     ]
    },
    {
     "data": {
      "image/png": "[encoded data removed]",
      "text/plain": [
       "<Figure size 432x288 with 1 Axes>"
      ]
     },
     "metadata": {
      "needs_background": "light"
     },
     "output_type": "display_data"
    }
   ],
   "source": [
    "OBJ.trainer()"
   ]
  },
  {
   "cell_type": "code",
   "execution_count": null,
   "metadata": {},
   "outputs": [],
   "source": [
    "## In blue, loss."
   ]
  },
  {
   "cell_type": "code",
   "execution_count": 20,
   "metadata": {},
   "outputs": [
    {
     "name": "stdout",
     "output_type": "stream",
     "text": [
      "Negative\n"
     ]
    }
   ],
   "source": [
    "OBJ.get_prediction('I am so disappointed with you')"
   ]
  },
  {
   "cell_type": "code",
   "execution_count": 23,
   "metadata": {},
   "outputs": [
    {
     "name": "stdout",
     "output_type": "stream",
     "text": [
      "Negative\n"
     ]
    }
   ],
   "source": [
    "OBJ.get_prediction(\"I am sorry for your lost\")"
   ]
  },
  {
   "cell_type": "code",
   "execution_count": 22,
   "metadata": {},
   "outputs": [
    {
     "name": "stdout",
     "output_type": "stream",
     "text": [
      "Positive\n"
     ]
    }
   ],
   "source": [
    "OBJ.get_prediction('I am glad that the economy in this country is evolving fastly')"
   ]
  },
  {
   "cell_type": "code",
   "execution_count": 24,
   "metadata": {},
   "outputs": [
    {
     "name": "stdout",
     "output_type": "stream",
     "text": [
      "Positive\n"
     ]
    }
   ],
   "source": [
    "OBJ.get_prediction(\"I'm here to conquer NLP!!!\")"
   ]
  },
  {
   "cell_type": "code",
   "execution_count": 25,
   "metadata": {},
   "outputs": [
    {
     "name": "stdout",
     "output_type": "stream",
     "text": [
      "Negative\n"
     ]
    }
   ],
   "source": [
    "OBJ.get_prediction(\"He is an idiot!\")"
   ]
  },
  {
   "cell_type": "code",
   "execution_count": 29,
   "metadata": {},
   "outputs": [],
   "source": [
    "#### Saving the model"
   ]
  },
  {
   "cell_type": "code",
   "execution_count": 32,
   "metadata": {},
   "outputs": [
    {
     "name": "stdout",
     "output_type": "stream",
     "text": [
      "INFO:tensorflow:Assets written to: Sentiment/sentiment/assets\n"
     ]
    },
    {
     "name": "stderr",
     "output_type": "stream",
     "text": [
      "INFO:tensorflow:Assets written to: Sentiment/sentiment/assets\n"
     ]
    }
   ],
   "source": [
    "OBJ.Dcnn.save('Sentiment/sentiment')"
   ]
  },
  {
   "cell_type": "code",
   "execution_count": null,
   "metadata": {},
   "outputs": [],
   "source": [
    "## Loading and testing the model"
   ]
  },
  {
   "cell_type": "code",
   "execution_count": 33,
   "metadata": {},
   "outputs": [],
   "source": [
    "new_model = tf.keras.models.load_model('Sentiment/sentiment')"
   ]
  },
  {
   "cell_type": "code",
   "execution_count": 34,
   "metadata": {},
   "outputs": [
    {
     "data": {
      "text/plain": [
       "<bound method Model.summary of <keras.saving.saved_model.load.DCNN object at 0x7f93cca05410>>"
      ]
     },
     "execution_count": 34,
     "metadata": {},
     "output_type": "execute_result"
    }
   ],
   "source": [
    "new_model.summary"
   ]
  },
  {
   "cell_type": "code",
   "execution_count": 35,
   "metadata": {},
   "outputs": [],
   "source": [
    "from copy import copy"
   ]
  },
  {
   "cell_type": "code",
   "execution_count": 36,
   "metadata": {},
   "outputs": [],
   "source": [
    "OBJ2 = copy(OBJ)"
   ]
  },
  {
   "cell_type": "code",
   "execution_count": 37,
   "metadata": {},
   "outputs": [],
   "source": [
    "OBJ2.Dcnn = new_model"
   ]
  },
  {
   "cell_type": "code",
   "execution_count": 38,
   "metadata": {},
   "outputs": [
    {
     "name": "stdout",
     "output_type": "stream",
     "text": [
      "Positive\n"
     ]
    }
   ],
   "source": [
    "OBJ2.get_prediction(\"I'm here to conquer NLP!!!\")"
   ]
  },
  {
   "cell_type": "code",
   "execution_count": null,
   "metadata": {},
   "outputs": [],
   "source": []
  }
 ],
 "metadata": {
  "kernelspec": {
   "display_name": "Python 3",
   "language": "python",
   "name": "python3"
  },
  "language_info": {
   "codemirror_mode": {
    "name": "ipython",
    "version": 3
   },
   "file_extension": ".py",
   "mimetype": "text/x-python",
   "name": "python",
   "nbconvert_exporter": "python",
   "pygments_lexer": "ipython3",
   "version": "3.7.4"
  }
 },
 "nbformat": 4,
 "nbformat_minor": 2
}
