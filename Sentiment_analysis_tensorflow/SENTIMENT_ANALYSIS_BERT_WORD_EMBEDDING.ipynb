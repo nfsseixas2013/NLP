{
 "cells": [
  {
   "cell_type": "code",
   "execution_count": 6,
   "metadata": {},
   "outputs": [],
   "source": [
    "import numpy as np\n",
    "import math\n",
    "import re\n",
    "import pandas as pd\n",
    "from bs4 import BeautifulSoup\n",
    "import random\n",
    "import seaborn as sns\n",
    "import matplotlib.pyplot as plt\n",
    "import tensorflow as tf\n",
    "import tensorflow_hub as hub\n",
    "from tensorflow.keras import layers\n",
    "import bert"
   ]
  },
  {
   "cell_type": "code",
   "execution_count": 9,
   "metadata": {},
   "outputs": [],
   "source": [
    "class DCNN(tf.keras.Model):\n",
    "    def __init__(\n",
    "        self,\n",
    "        nb_filters = 50,\n",
    "        FFN_units = 512,\n",
    "        nb_classes = 2,\n",
    "        dropout_rate = 0.1,\n",
    "        name = \"dcnn\"\n",
    "    ):\n",
    "        super(DCNN,self).__init__(name=name)\n",
    "        \n",
    "        self.bert_layer = hub.KerasLayer(\"https://tfhub.dev/tensorflow/bert_en_uncased_L-12_H-768_A-12/1\",\n",
    "                                         trainable = False)\n",
    "        self.bigram = layers.Conv1D(\n",
    "            filters = nb_filters,\n",
    "            kernel_size = 2,\n",
    "            padding = 'valid',\n",
    "            activation = 'relu'\n",
    "        )\n",
    "        self.trigram = layers.Conv1D(\n",
    "            filters = nb_filters,\n",
    "            kernel_size = 3,\n",
    "            padding = 'valid',\n",
    "            activation = 'relu'\n",
    "        )\n",
    "        self.fourgram = layers.Conv1D(\n",
    "            filters = nb_filters,\n",
    "            kernel_size = 4,\n",
    "            padding = 'valid',\n",
    "            activation = 'relu'\n",
    "        )\n",
    "            \n",
    "        self.pool = layers.GlobalMaxPool1D()\n",
    "        self.dense_1 = layers.Dense(units = FFN_units, activation = 'relu')\n",
    "        self.dropout = layers.Dropout(rate = dropout_rate)\n",
    "        if nb_classes == 2:\n",
    "            self.last_dense = layers.Dense(units = 1, activation = 'sigmoid')\n",
    "        else:\n",
    "            self.last_dense = layers.Dense(units= nb_classes, activation = 'softmax')\n",
    "    \n",
    "    def embed_with_bert(self, all_tokens):\n",
    "        _, embs = self.bert_layer([\n",
    "            all_tokens[:, 0, :],\n",
    "            all_tokens[:, 1, :],\n",
    "            all_tokens[:, 2, :],\n",
    "        ])\n",
    "        return embs\n",
    "    \n",
    "    \n",
    "    \n",
    "    def call(self, inputs, training):\n",
    "        x = self.embed_with_bert(inputs)\n",
    "\n",
    "        x_1 = self.bigram(x)\n",
    "        x_1 = self.pool(x_1)\n",
    "        x_2 = self.trigram(x)\n",
    "        x_2 = self.pool(x_2)\n",
    "        x_3 = self.fourgram(x)\n",
    "        x_3 = self.pool(x_3)\n",
    "        \n",
    "        merged = tf.concat([x_1,x_2,x_3], axis = -1)\n",
    "        merged = self.dense_1(merged)\n",
    "        merged = self.dropout(merged, training)\n",
    "        output = self.last_dense(merged)\n",
    "        \n",
    "        return output"
   ]
  },
  {
   "cell_type": "code",
   "execution_count": 10,
   "metadata": {},
   "outputs": [],
   "source": [
    "cols = ['sentiment', 'id', 'date', 'query', 'user', 'text']"
   ]
  },
  {
   "cell_type": "code",
   "execution_count": 11,
   "metadata": {},
   "outputs": [],
   "source": [
    "data =  pd.read_csv('/home/nilton/Arquivos/Softplan/Tutorials/Curso_BERT_Jonathan/bert_data/Base de dados sentimentos/training.1600000.processed.noemoticon.csv',\n",
    "                       header = None,\n",
    "                       names = cols,\n",
    "                       engine='python',\n",
    "                       encoding='latin-1')"
   ]
  },
  {
   "cell_type": "code",
   "execution_count": 12,
   "metadata": {},
   "outputs": [],
   "source": [
    "data.drop(['id', 'date', 'query', 'user'],\n",
    "             axis = 1, inplace = True)"
   ]
  },
  {
   "cell_type": "code",
   "execution_count": 13,
   "metadata": {},
   "outputs": [],
   "source": [
    "def clean_tweet(tweet):\n",
    "    tweet = BeautifulSoup(tweet,'lxml').get_text()\n",
    "    tweet = re.sub(r\"@[A-Za-z0-9]+\",' ',tweet)\n",
    "    tweet = re.sub(r\"https?://[A-Za-z0-9./]+\",' ', tweet)\n",
    "    tweet = re.sub(r\"[^a-zA-Z.!?']\", \" \", tweet)\n",
    "    tweet = re.sub(r\" +\", \" \", tweet)\n",
    "    return tweet"
   ]
  },
  {
   "cell_type": "code",
   "execution_count": 14,
   "metadata": {},
   "outputs": [],
   "source": [
    "data_clean = [clean_tweet(tweet) for tweet in data.text]"
   ]
  },
  {
   "cell_type": "code",
   "execution_count": 15,
   "metadata": {},
   "outputs": [],
   "source": [
    "data_labels = data.sentiment.values\n",
    "data_labels[data_labels == 4] = 1\n",
    "FullTokenizer = bert.bert_tokenization.FullTokenizer\n",
    "bert_layer = hub.KerasLayer('https://tfhub.dev/tensorflow/bert_en_uncased_L-12_H-768_A-12/1',\n",
    "                               trainable = False)\n",
    "vocab_file = bert_layer.resolved_object.vocab_file.asset_path.numpy()"
   ]
  },
  {
   "cell_type": "code",
   "execution_count": 17,
   "metadata": {},
   "outputs": [],
   "source": [
    "do_lower_case = bert_layer.resolved_object.do_lower_case.numpy()"
   ]
  },
  {
   "cell_type": "code",
   "execution_count": 19,
   "metadata": {},
   "outputs": [],
   "source": [
    "tokenizer = FullTokenizer(vocab_file, do_lower_case)"
   ]
  },
  {
   "cell_type": "code",
   "execution_count": 20,
   "metadata": {},
   "outputs": [],
   "source": [
    "def encode_sentence(sent):\n",
    "    return [\"[CLS]\"] + tokenizer.tokenize(sent) + [\"[SEP]\"]\n",
    "    \n",
    "def get_ids(tokens):\n",
    "    return tokenizer.convert_tokens_to_ids(tokens)\n",
    "\n",
    "def get_mask(tokens):\n",
    "    return np.char.not_equal(tokens,\"[PAD]\").astype(int)"
   ]
  },
  {
   "cell_type": "code",
   "execution_count": 21,
   "metadata": {},
   "outputs": [],
   "source": [
    "def get_segments(tokens):\n",
    "    seg_ids = []\n",
    "    current_seg_id = 0\n",
    "    for tok in tokens:\n",
    "        seg_ids.append(current_seg_id)\n",
    "        if tok == \"[SEP]\":\n",
    "            current_seg_id = 1 - current_seg_id\n",
    "    return seg_ids"
   ]
  },
  {
   "cell_type": "code",
   "execution_count": 22,
   "metadata": {},
   "outputs": [],
   "source": [
    "data_inputs = [encode_sentence(sentence) for sentence in data_clean]"
   ]
  },
  {
   "cell_type": "code",
   "execution_count": 23,
   "metadata": {},
   "outputs": [],
   "source": [
    "data_with_len = [\n",
    "            [\n",
    "                sent, data_labels[i], len(sent)\n",
    "            ]\n",
    "            for i, sent in enumerate(data_inputs)\n",
    "]"
   ]
  },
  {
   "cell_type": "code",
   "execution_count": 24,
   "metadata": {},
   "outputs": [],
   "source": [
    "## Data handling"
   ]
  },
  {
   "cell_type": "code",
   "execution_count": 25,
   "metadata": {},
   "outputs": [],
   "source": [
    "min_tokens = 7\n",
    "random.shuffle(data_with_len)\n",
    "data_with_len.sort(key=lambda x: x[2])\n",
    "sorted_all = [\n",
    "            (\n",
    "                [\n",
    "                    get_ids(sent_lab[0]),\n",
    "                    get_mask(sent_lab[0]),\n",
    "                    get_segments(sent_lab[0])\n",
    "                ],\n",
    "                sent_lab[1]\n",
    "            )\n",
    "              for sent_lab in data_with_len if sent_lab[2] > min_tokens\n",
    "]\n",
    "BATCH_SIZE = 32\n",
    "NB_BATCHES = len(sorted_all) // BATCH_SIZE\n",
    "NB_BATCHES_TEST = NB_BATCHES // 10\n",
    "all_dataset = tf.data.Dataset.from_generator(lambda: sorted_all, \n",
    "                                            output_types = (tf.int32, tf.int32))\n",
    "all_batched = all_dataset.padded_batch(BATCH_SIZE, padded_shapes=((3,None),()),\n",
    "                                                                          padding_values = (0,0))\n",
    "\n",
    "test_dataset = all_batched.take(NB_BATCHES_TEST)\n",
    "train_dataset = all_batched.skip(NB_BATCHES_TEST)\n"
   ]
  },
  {
   "cell_type": "code",
   "execution_count": 26,
   "metadata": {},
   "outputs": [],
   "source": [
    "NB_FILTERS = 100\n",
    "FFN_UNITS = 256\n",
    "NB_CLASSES = 2\n",
    "DROPOUT_RATE = 0.2\n",
    "NB_EPOCHS = 3\n",
    "#\n",
    "Dcnn = DCNN(\n",
    "    nb_filters = NB_FILTERS,\n",
    "    FFN_units = FFN_UNITS,\n",
    "    nb_classes = NB_CLASSES,\n",
    "    dropout_rate = DROPOUT_RATE\n",
    ")\n",
    "if  NB_CLASSES == 2:\n",
    "    Dcnn.compile(loss='binary_crossentropy', optimizer = 'adam', metrics = ['accuracy'])\n",
    "else:\n",
    "    Dcnn.compile(loss='sparse_categorical_crossentropy', optimizer='adam', metrics = ['sparse_categorical_accuracy'])\n",
    "\n",
    "checkpoint_path = './'\n",
    "ckpt = tf.train.Checkpoint(Dcnn= Dcnn)\n",
    "ckpt_manager = tf.train.CheckpointManager(ckpt, checkpoint_path,\n",
    "                                 max_to_keep=1)\n",
    "if ckpt_manager.latest_checkpoint:\n",
    "    ckpt.restore(ckpt_manager.latest_checkpoint)\n",
    "    print('Lastest checkpoint restored')\n",
    "\n",
    "class MyCustomCallBack(tf.keras.callbacks.Callback):\n",
    "    def on_epoch_end(self, epoch, logs = None):\n",
    "        ckpt_manager.save()\n",
    "        print(f\"Checkpoint save at {checkpoint_path}\")\n"
   ]
  },
  {
   "cell_type": "code",
   "execution_count": 27,
   "metadata": {},
   "outputs": [
    {
     "name": "stdout",
     "output_type": "stream",
     "text": [
      "Epoch 1/3\n",
      "  40623/Unknown - 21831s 537ms/step - loss: 0.3974 - accuracy: 0.8218Checkpoint save at ./\n",
      "40623/40623 [==============================] - 21839s 537ms/step - loss: 0.3974 - accuracy: 0.8218\n",
      "Epoch 2/3\n",
      "40623/40623 [==============================] - ETA: 0s - loss: 0.3759 - accuracy: 0.8338Checkpoint save at ./\n",
      "40623/40623 [==============================] - 21353s 525ms/step - loss: 0.3759 - accuracy: 0.8338\n",
      "Epoch 3/3\n",
      "40623/40623 [==============================] - ETA: 0s - loss: 0.3663 - accuracy: 0.8387Checkpoint save at ./\n",
      "40623/40623 [==============================] - 21678s 533ms/step - loss: 0.3663 - accuracy: 0.8387\n"
     ]
    }
   ],
   "source": [
    "history = Dcnn.fit(\n",
    "    train_dataset,\n",
    "    epochs = NB_EPOCHS,\n",
    "    callbacks = [MyCustomCallBack()]\n",
    ")"
   ]
  },
  {
   "cell_type": "code",
   "execution_count": 28,
   "metadata": {},
   "outputs": [
    {
     "name": "stdout",
     "output_type": "stream",
     "text": [
      "4513/4513 [==============================] - 955s 211ms/step - loss: 0.3439 - accuracy: 0.8567\n",
      "[0.34393003582954407, 0.8567264080047607]\n"
     ]
    }
   ],
   "source": [
    "results = Dcnn.evaluate(test_dataset)\n",
    "print(results)"
   ]
  },
  {
   "cell_type": "code",
   "execution_count": 29,
   "metadata": {},
   "outputs": [
    {
     "data": {
      "image/png": "[encoded data removed]",
      "text/plain": [
       "<Figure size 432x288 with 1 Axes>"
      ]
     },
     "metadata": {
      "needs_background": "light"
     },
     "output_type": "display_data"
    }
   ],
   "source": [
    "plt.plot(history.history['loss'])\n",
    "plt.title('Loss progress');\n"
   ]
  },
  {
   "cell_type": "code",
   "execution_count": 30,
   "metadata": {},
   "outputs": [
    {
     "data": {
      "image/png": "[encoded data removed]",
      "text/plain": [
       "<Figure size 432x288 with 1 Axes>"
      ]
     },
     "metadata": {
      "needs_background": "light"
     },
     "output_type": "display_data"
    }
   ],
   "source": [
    "plt.plot(history.history['accuracy'])\n",
    "plt.title('Accuracy progress');"
   ]
  },
  {
   "cell_type": "code",
   "execution_count": 32,
   "metadata": {},
   "outputs": [],
   "source": [
    "def  get_prediction(sentence):\n",
    "    tokens = encode_sentence(sentence)\n",
    "    input_ids = get_ids(tokens)\n",
    "    input_mask = get_mask(tokens)\n",
    "    segment_ids = get_segments(tokens)\n",
    "    inputs = tf.stack(\n",
    "          [\n",
    "           tf.cast(input_ids, dtype=tf.int32),\n",
    "           tf.cast(input_mask, dtype=tf.int32),\n",
    "           tf.cast(segment_ids, dtype=tf.int32),\n",
    "          ], axis = 0\n",
    "    )\n",
    "    inputs = tf.expand_dims(inputs, 0)\n",
    "    output = Dcnn(inputs, training=False)\n",
    "    sentiment = math.floor(output*2)\n",
    "    if sentiment == 0:\n",
    "        print(\"Negative\")\n",
    "    elif sentiment == 1:\n",
    "        print(\"Positive\")\n",
    "    else:\n",
    "        print(\"Undermined\")"
   ]
  },
  {
   "cell_type": "code",
   "execution_count": 33,
   "metadata": {},
   "outputs": [
    {
     "name": "stdout",
     "output_type": "stream",
     "text": [
      "Positive\n"
     ]
    }
   ],
   "source": [
    "get_prediction(\"I'm here to conquer NLP!!!\")"
   ]
  },
  {
   "cell_type": "code",
   "execution_count": 34,
   "metadata": {},
   "outputs": [
    {
     "name": "stdout",
     "output_type": "stream",
     "text": [
      "Negative\n"
     ]
    }
   ],
   "source": [
    "get_prediction(\"I am sorry for your lost\")"
   ]
  },
  {
   "cell_type": "code",
   "execution_count": 35,
   "metadata": {},
   "outputs": [
    {
     "name": "stdout",
     "output_type": "stream",
     "text": [
      "Positive\n"
     ]
    }
   ],
   "source": [
    "get_prediction('I am glad that the economy in this country is evolving fastly')"
   ]
  },
  {
   "cell_type": "code",
   "execution_count": 36,
   "metadata": {},
   "outputs": [
    {
     "name": "stdout",
     "output_type": "stream",
     "text": [
      "Negative\n"
     ]
    }
   ],
   "source": [
    "get_prediction(\"He is an idiot!\")"
   ]
  },
  {
   "cell_type": "code",
   "execution_count": null,
   "metadata": {},
   "outputs": [],
   "source": []
  }
 ],
 "metadata": {
  "kernelspec": {
   "display_name": "Python 3",
   "language": "python",
   "name": "python3"
  },
  "language_info": {
   "codemirror_mode": {
    "name": "ipython",
    "version": 3
   },
   "file_extension": ".py",
   "mimetype": "text/x-python",
   "name": "python",
   "nbconvert_exporter": "python",
   "pygments_lexer": "ipython3",
   "version": "3.7.4"
  }
 },
 "nbformat": 4,
 "nbformat_minor": 2
}
